{
 "cells": [
  {
   "cell_type": "code",
   "execution_count": 1,
   "id": "f38593fe-1e7a-49db-97c6-b35240eeb0fe",
   "metadata": {},
   "outputs": [],
   "source": [
    "import matplotlib.pyplot as plt\n",
    "from astropy.visualization import astropy_mpl_style\n",
    "plt.style.use(astropy_mpl_style)"
   ]
  },
  {
   "cell_type": "code",
   "execution_count": null,
   "id": "c52b3aff-dae7-4d12-8412-e58b7a4e40dd",
   "metadata": {},
   "outputs": [],
   "source": [
    "from astropy.utils.data import get_pkg_data_filename\n",
    "from astropy.io import fits\n",
    "\n",
    "image_file = get_pkg_data_filename('tutorials/FITS-images/HorseHead.fits')"
   ]
  },
  {
   "cell_type": "code",
   "execution_count": null,
   "id": "263b9a18-4897-43ca-b829-1b28cdd48a03",
   "metadata": {},
   "outputs": [],
   "source": [
    "fits.info(image_file)"
   ]
  },
  {
   "cell_type": "code",
   "execution_count": null,
   "id": "9d6a347e-b52a-4161-820c-f7adedb5fd40",
   "metadata": {},
   "outputs": [],
   "source": [
    "image_data = fits.getdata(image_file, ext=0)"
   ]
  },
  {
   "cell_type": "code",
   "execution_count": null,
   "id": "9b72eb06-db10-4d47-943d-552a0c90ab62",
   "metadata": {},
   "outputs": [],
   "source": [
    "print(image_data.shape)"
   ]
  },
  {
   "cell_type": "code",
   "execution_count": null,
   "id": "efe5dd78-b095-48d4-9ae8-2e0d6b1b4764",
   "metadata": {},
   "outputs": [],
   "source": [
    "plt.figure()\n",
    "plt.imshow(image_data, cmap='gray')\n",
    "plt.colorbar()"
   ]
  }
 ],
 "metadata": {
  "kernelspec": {
   "display_name": "Python 3 (ipykernel)",
   "language": "python",
   "name": "python3"
  },
  "language_info": {
   "codemirror_mode": {
    "name": "ipython",
    "version": 3
   },
   "file_extension": ".py",
   "mimetype": "text/x-python",
   "name": "python",
   "nbconvert_exporter": "python",
   "pygments_lexer": "ipython3",
   "version": "3.9.12"
  }
 },
 "nbformat": 4,
 "nbformat_minor": 5
}
